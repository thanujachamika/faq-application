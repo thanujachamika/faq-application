{
  "cells": [
    {
      "cell_type": "code",
      "execution_count": 1,
      "metadata": {
        "colab": {
          "base_uri": "https://localhost:8080/",
          "height": 314
        },
        "id": "E0acWkfLAIv5",
        "outputId": "f3ffaca6-b25b-4edc-fef4-89bb041484be"
      },
      "outputs": [
        {
          "name": "stderr",
          "output_type": "stream",
          "text": [
            "c:\\Python312\\Lib\\site-packages\\tqdm\\auto.py:21: TqdmWarning: IProgress not found. Please update jupyter and ipywidgets. See https://ipywidgets.readthedocs.io/en/stable/user_install.html\n",
            "  from .autonotebook import tqdm as notebook_tqdm\n"
          ]
        }
      ],
      "source": [
        "from sentence_transformers import SentenceTransformer, util"
      ]
    },
    {
      "cell_type": "code",
      "execution_count": 2,
      "metadata": {},
      "outputs": [],
      "source": [
        "import pandas as pd\n",
        "\n",
        "df = pd.read_csv('data.csv')\n",
        "\n",
        "question = df['Question']\n",
        "answer = df['Answer']\n"
      ]
    },
    {
      "cell_type": "code",
      "execution_count": 3,
      "metadata": {
        "id": "bauZhEsrA_Bp"
      },
      "outputs": [],
      "source": [
        "model = SentenceTransformer('sentence-transformers/all-mpnet-base-v2')"
      ]
    },
    {
      "cell_type": "code",
      "execution_count": 4,
      "metadata": {},
      "outputs": [],
      "source": [
        "embeddings = model.encode(question)"
      ]
    },
    {
      "cell_type": "code",
      "execution_count": 12,
      "metadata": {},
      "outputs": [],
      "source": [
        "# Compute cosine similarity between all pairs\n",
        "cos_sim = util.cos_sim(embeddings, embeddings)\n",
        "\n",
        "# Add all pairs to a list with their cosine similarity score\n",
        "all_sentence_combinations = []\n",
        "for i in range(len(cos_sim) - 1):\n",
        "    for j in range(i + 1, len(cos_sim)):\n",
        "        all_sentence_combinations.append([cos_sim[i][j], i, j])"
      ]
    },
    {
      "cell_type": "code",
      "execution_count": 5,
      "metadata": {},
      "outputs": [
        {
          "ename": "NameError",
          "evalue": "name 'all_sentence_combinations' is not defined",
          "output_type": "error",
          "traceback": [
            "\u001b[1;31m---------------------------------------------------------------------------\u001b[0m",
            "\u001b[1;31mNameError\u001b[0m                                 Traceback (most recent call last)",
            "\u001b[1;32mc:\\Users\\Nam Dao\\Downloads\\FAQ-20240408T074943Z-001\\FAQ\\FAQ.ipynb Cell 6\u001b[0m line \u001b[0;36m2\n\u001b[0;32m      <a href='vscode-notebook-cell:/c%3A/Users/Nam%20Dao/Downloads/FAQ-20240408T074943Z-001/FAQ/FAQ.ipynb#W5sZmlsZQ%3D%3D?line=0'>1</a>\u001b[0m \u001b[39m# Sort list by the highest cosine similarity score\u001b[39;00m\n\u001b[1;32m----> <a href='vscode-notebook-cell:/c%3A/Users/Nam%20Dao/Downloads/FAQ-20240408T074943Z-001/FAQ/FAQ.ipynb#W5sZmlsZQ%3D%3D?line=1'>2</a>\u001b[0m all_sentence_combinations \u001b[39m=\u001b[39m \u001b[39msorted\u001b[39m(all_sentence_combinations, key\u001b[39m=\u001b[39m\u001b[39mlambda\u001b[39;00m x: x[\u001b[39m0\u001b[39m], reverse\u001b[39m=\u001b[39m\u001b[39mTrue\u001b[39;00m)\n",
            "\u001b[1;31mNameError\u001b[0m: name 'all_sentence_combinations' is not defined"
          ]
        }
      ],
      "source": [
        "# Sort list by the highest cosine similarity score\n",
        "all_sentence_combinations = sorted(all_sentence_combinations, key=lambda x: x[0], reverse=True)"
      ]
    },
    {
      "cell_type": "code",
      "execution_count": 8,
      "metadata": {},
      "outputs": [],
      "source": [
        "from FlagEmbedding import FlagReranker\n",
        "\n",
        "reranker = FlagReranker('BAAI/bge-reranker-v2-m3', use_fp16=True)\n"
      ]
    },
    {
      "cell_type": "code",
      "execution_count": 11,
      "metadata": {},
      "outputs": [],
      "source": [
        "import tkinter as tk\n",
        "\n",
        "def change_text():\n",
        "    user_question = entry.get()\n",
        "    q_embedding = model.encode(user_question)\n",
        "\n",
        "    cos_sim = util.cos_sim(q_embedding, embeddings)\n",
        "\n",
        "    val = []\n",
        "\n",
        "    for i in range(len(cos_sim[0])):\n",
        "        val.append(cos_sim[0][i].item())\n",
        "\n",
        "    p_answer = answer.copy()\n",
        "    p_question = question.copy()\n",
        "\n",
        "    for i in range(len(val)):\n",
        "        for j in range(i + 1, len(val)):\n",
        "            if (val[i] < val[j]):\n",
        "                temp = val[i]\n",
        "                val[i] = val[j]\n",
        "                val[j] = temp\n",
        "\n",
        "                temp = p_answer[i]\n",
        "                p_answer[i] = p_answer[j]\n",
        "                p_answer[j] = temp\n",
        "                \n",
        "                temp = p_question[i]\n",
        "                p_question[i] = p_question[j]\n",
        "                p_question[j] = temp\n",
        "\n",
        "    if (reranker.compute_score([p_question[0], user_question]) > 0):\n",
        "        answer_label.config(text=p_answer[0])\n",
        "    else:\n",
        "        answer_label.config(text=\"Sorry, we don't know the answer for this question\")\n",
        "\n",
        "\n",
        "window = tk.Tk()\n",
        "window.geometry('520x300')\n",
        "label = tk.Label(text=\"FAQ\")\n",
        "label.pack()\n",
        "\n",
        "entry = tk.Entry(fg=\"black\", bg=\"white\", width=50)\n",
        "entry.pack()\n",
        "\n",
        "# Create a button\n",
        "button = tk.Button(window, text=\"Find\", command=change_text)\n",
        "button.pack()\n",
        "\n",
        "noti_label = tk.Label(text=\"Answer\")\n",
        "noti_label.pack()\n",
        "\n",
        "answer_label = tk.Label(text=\"\", wraplength=300, justify='center')\n",
        "answer_label.pack()\n",
        "\n",
        "# Run the main event loop\n",
        "window.mainloop()"
      ]
    }
  ],
  "metadata": {
    "colab": {
      "provenance": []
    },
    "kernelspec": {
      "display_name": "Python 3",
      "name": "python3"
    },
    "language_info": {
      "codemirror_mode": {
        "name": "ipython",
        "version": 3
      },
      "file_extension": ".py",
      "mimetype": "text/x-python",
      "name": "python",
      "nbconvert_exporter": "python",
      "pygments_lexer": "ipython3",
      "version": "3.12.0"
    }
  },
  "nbformat": 4,
  "nbformat_minor": 0
}
