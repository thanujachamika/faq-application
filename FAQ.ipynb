{
 "cells": [
  {
   "cell_type": "code",
   "metadata": {
    "colab": {
     "base_uri": "https://localhost:8080/",
     "height": 314
    },
    "id": "E0acWkfLAIv5",
    "outputId": "f3ffaca6-b25b-4edc-fef4-89bb041484be",
    "ExecuteTime": {
     "end_time": "2024-05-11T08:23:36.317364Z",
     "start_time": "2024-05-11T08:23:36.309677Z"
    }
   },
   "source": [
    "from sentence_transformers import SentenceTransformer, util"
   ],
   "outputs": [],
   "execution_count": 2
  },
  {
   "cell_type": "code",
   "metadata": {
    "ExecuteTime": {
     "end_time": "2024-05-11T08:23:38.357338Z",
     "start_time": "2024-05-11T08:23:36.324616Z"
    }
   },
   "source": [
    "import pandas as pd\n",
    "\n",
    "df = pd.read_csv('data.csv')\n",
    "\n",
    "question = df['Question']\n",
    "answer = df['Answer']\n"
   ],
   "outputs": [],
   "execution_count": 3
  },
  {
   "cell_type": "code",
   "metadata": {
    "id": "bauZhEsrA_Bp",
    "ExecuteTime": {
     "end_time": "2024-05-11T08:23:43.538399Z",
     "start_time": "2024-05-11T08:23:38.359510Z"
    }
   },
   "source": [
    "model = SentenceTransformer('sentence-transformers/all-mpnet-base-v2')"
   ],
   "outputs": [],
   "execution_count": 4
  },
  {
   "cell_type": "code",
   "metadata": {
    "ExecuteTime": {
     "end_time": "2024-05-11T08:23:45.320319Z",
     "start_time": "2024-05-11T08:23:43.553237Z"
    }
   },
   "source": [
    "embeddings = model.encode(question)"
   ],
   "outputs": [],
   "execution_count": 5
  },
  {
   "cell_type": "code",
   "metadata": {
    "ExecuteTime": {
     "end_time": "2024-05-11T08:23:45.540578Z",
     "start_time": "2024-05-11T08:23:45.323071Z"
    }
   },
   "source": [
    "# Compute cosine similarity between all pairs\n",
    "cos_sim = util.cos_sim(embeddings, embeddings)\n",
    "\n",
    "# Add all pairs to a list with their cosine similarity score\n",
    "all_sentence_combinations = []\n",
    "for i in range(len(cos_sim) - 1):\n",
    "    for j in range(i + 1, len(cos_sim)):\n",
    "        all_sentence_combinations.append([cos_sim[i][j], i, j])"
   ],
   "outputs": [],
   "execution_count": 6
  },
  {
   "cell_type": "code",
   "metadata": {
    "ExecuteTime": {
     "end_time": "2024-05-11T08:23:45.878038Z",
     "start_time": "2024-05-11T08:23:45.541391Z"
    }
   },
   "source": [
    "# Sort list by the highest cosine similarity score\n",
    "all_sentence_combinations = sorted(all_sentence_combinations, key=lambda x: x[0], reverse=True)"
   ],
   "outputs": [],
   "execution_count": 7
  },
  {
   "cell_type": "code",
   "metadata": {
    "ExecuteTime": {
     "end_time": "2024-05-11T08:24:01.372197Z",
     "start_time": "2024-05-11T08:23:45.878704Z"
    }
   },
   "source": [
    "from FlagEmbedding import FlagReranker\n",
    "\n",
    "reranker = FlagReranker('BAAI/bge-reranker-v2-m3', use_fp16=True)\n"
   ],
   "outputs": [],
   "execution_count": 8
  },
  {
   "metadata": {
    "ExecuteTime": {
     "end_time": "2024-05-12T12:51:49.926048Z",
     "start_time": "2024-05-12T12:51:49.776572Z"
    }
   },
   "cell_type": "code",
   "source": [
    "import speech_recognition as sr\n",
    "\n",
    "def voice_to_text():\n",
    "    # Initialize recognizer class (for recognizing the speech)\n",
    "    r = sr.Recognizer()\n",
    "\n",
    "    # Use Microphone to input speech\n",
    "    with sr.Microphone() as source:\n",
    "        print(\"Listening for question...\")\n",
    "        audio = r.listen(source)\n",
    "        try:\n",
    "            text = r.recognize_google(audio)\n",
    "            return text\n",
    "        except:\n",
    "            print(\"Could not recognize your voice. Please try again.\")\n",
    "            return None"
   ],
   "outputs": [],
   "execution_count": 1
  },
  {
   "metadata": {
    "ExecuteTime": {
     "end_time": "2024-05-12T13:38:07.569100Z",
     "start_time": "2024-05-12T13:38:07.563291Z"
    }
   },
   "cell_type": "code",
   "source": [
    "def get_user_question(clicked_button):\n",
    "    # global clicked_button\n",
    "    if clicked_button == 'button1':\n",
    "        return entry.get()\n",
    "    elif clicked_button == 'button2':\n",
    "        return voice_to_text()\n",
    "    else:\n",
    "        return"
   ],
   "outputs": [],
   "execution_count": 1
  },
  {
   "metadata": {
    "ExecuteTime": {
     "end_time": "2024-05-12T14:02:47.363934Z",
     "start_time": "2024-05-12T14:02:47.339422Z"
    }
   },
   "cell_type": "code",
   "source": [
    "def change_text_helper(clicked_button):\n",
    "    user_question = get_user_question(clicked_button)  # get user's question by voice\n",
    "    if user_question is None:\n",
    "        return None\n",
    "\n",
    "    q_embedding = model.encode(user_question)\n",
    "    cos_sim = util.cos_sim(q_embedding, embeddings)\n",
    "\n",
    "    val = [cos_sim[0][i].item() for i in range(len(cos_sim[0]))]\n",
    "    p_answer = answer.copy()\n",
    "    p_question = question.copy()\n",
    "\n",
    "    val, p_answer, p_question = zip(*sorted(zip(val, p_answer, p_question), reverse=True))\n",
    "\n",
    "    if reranker.compute_score([p_question[0], user_question]) > 0:\n",
    "        return p_answer[0]\n",
    "    else:\n",
    "        return \"Sorry, we don't know the answer for this question\""
   ],
   "outputs": [],
   "execution_count": 2
  },
  {
   "metadata": {
    "ExecuteTime": {
     "end_time": "2024-05-12T14:02:51.332656Z",
     "start_time": "2024-05-12T14:02:51.328867Z"
    }
   },
   "cell_type": "code",
   "source": [
    "def change_text2():\n",
    "    result = change_text_helper('button2')\n",
    "\n",
    "    if result is None:\n",
    "        answer_label.config(text=\"Please ask your question again.\")\n",
    "    else:\n",
    "        answer_label.config(text=result)"
   ],
   "outputs": [],
   "execution_count": 3
  },
  {
   "metadata": {},
   "cell_type": "code",
   "outputs": [],
   "execution_count": null,
   "source": [
    "\n",
    "def change_text1():\n",
    "    result = change_text_helper('button1')\n",
    "    answer_label.config(text=result if result is not None else \"Sorry, we don't know the answer for this question\")"
   ]
  },
  {
   "metadata": {},
   "cell_type": "code",
   "outputs": [],
   "execution_count": null,
   "source": [
    "import tkinter as tk\n",
    "\n",
    "window = tk.Tk()\n",
    "window.geometry('520x300')\n",
    "label = tk.Label(text=\"FAQ\")\n",
    "label.pack()\n",
    "\n",
    "entry = tk.Entry(fg=\"black\", bg=\"white\", width=50)\n",
    "entry.pack()\n",
    "\n",
    "# Create a button\n",
    "button1 = tk.Button(window, text=\"Find\", command=change_text1)\n",
    "button1.pack()\n",
    "\n",
    "button2 = tk.Button(window, text=\"Speak Question\", command=change_text2)\n",
    "button2.pack()\n",
    "\n",
    "noti_label = tk.Label(text=\"Answer\")\n",
    "noti_label.pack()\n",
    "\n",
    "answer_label = tk.Label(text=\"\", wraplength=300, justify='center')\n",
    "answer_label.pack()\n",
    "\n",
    "# Run the main event loop\n",
    "window.mainloop()"
   ]
  }
 ],
 "metadata": {
  "colab": {
   "provenance": []
  },
  "kernelspec": {
   "display_name": "Python 3 (ipykernel)",
   "name": "python3",
   "language": "python"
  },
  "language_info": {
   "codemirror_mode": {
    "name": "ipython",
    "version": 3
   },
   "file_extension": ".py",
   "mimetype": "text/x-python",
   "name": "python",
   "nbconvert_exporter": "python",
   "pygments_lexer": "ipython3",
   "version": "3.12.0"
  }
 },
 "nbformat": 4,
 "nbformat_minor": 0
}
